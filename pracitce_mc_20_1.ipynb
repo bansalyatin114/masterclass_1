{
 "cells": [
  {
   "cell_type": "code",
   "execution_count": 1,
   "id": "4759b174",
   "metadata": {},
   "outputs": [
    {
     "ename": "NameError",
     "evalue": "name 'area' is not defined",
     "output_type": "error",
     "traceback": [
      "\u001b[1;31m---------------------------------------------------------------------------\u001b[0m",
      "\u001b[1;31mNameError\u001b[0m                                 Traceback (most recent call last)",
      "\u001b[1;32m~\\AppData\\Local\\Temp\\ipykernel_30836\\168955695.py\u001b[0m in \u001b[0;36m<module>\u001b[1;34m\u001b[0m\n\u001b[0;32m      3\u001b[0m \u001b[1;33m\u001b[0m\u001b[0m\n\u001b[0;32m      4\u001b[0m \u001b[0mcalculate_circle_area\u001b[0m\u001b[1;33m(\u001b[0m\u001b[1;33m)\u001b[0m\u001b[1;33m\u001b[0m\u001b[1;33m\u001b[0m\u001b[0m\n\u001b[1;32m----> 5\u001b[1;33m \u001b[0mprint\u001b[0m\u001b[1;33m(\u001b[0m\u001b[0marea\u001b[0m\u001b[1;33m)\u001b[0m\u001b[1;33m\u001b[0m\u001b[1;33m\u001b[0m\u001b[0m\n\u001b[0m",
      "\u001b[1;31mNameError\u001b[0m: name 'area' is not defined"
     ]
    }
   ],
   "source": [
    "def calculate_circle_area(radius = 5):\n",
    "      area = 3.14 * radius * radius\n",
    "\n",
    "calculate_circle_area()\n",
    "print(area)"
   ]
  },
  {
   "cell_type": "code",
   "execution_count": 3,
   "id": "1af93861",
   "metadata": {},
   "outputs": [],
   "source": [
    "import pandas as pd"
   ]
  },
  {
   "cell_type": "code",
   "execution_count": 4,
   "id": "0a8f220e",
   "metadata": {},
   "outputs": [],
   "source": [
    "df=pd.read_json('22d13816-59fd-44d1-97dc-c98af92c480c_83d04ac6-cb74-4a96-a06a-e0d5442aa126_globalmart_data_from_0th_offset.json')"
   ]
  },
  {
   "cell_type": "code",
   "execution_count": 5,
   "id": "03f4601f",
   "metadata": {},
   "outputs": [
    {
     "data": {
      "text/html": [
       "<div>\n",
       "<style scoped>\n",
       "    .dataframe tbody tr th:only-of-type {\n",
       "        vertical-align: middle;\n",
       "    }\n",
       "\n",
       "    .dataframe tbody tr th {\n",
       "        vertical-align: top;\n",
       "    }\n",
       "\n",
       "    .dataframe thead th {\n",
       "        text-align: right;\n",
       "    }\n",
       "</style>\n",
       "<table border=\"1\" class=\"dataframe\">\n",
       "  <thead>\n",
       "    <tr style=\"text-align: right;\">\n",
       "      <th></th>\n",
       "      <th>id</th>\n",
       "      <th>sales_amt</th>\n",
       "      <th>qty</th>\n",
       "      <th>discount</th>\n",
       "      <th>profit_amt</th>\n",
       "      <th>order</th>\n",
       "      <th>product</th>\n",
       "    </tr>\n",
       "  </thead>\n",
       "  <tbody>\n",
       "    <tr>\n",
       "      <th>0</th>\n",
       "      <td>4102</td>\n",
       "      <td>2.0000</td>\n",
       "      <td>0</td>\n",
       "      <td>72.948</td>\n",
       "      <td>null</td>\n",
       "      <td>{'order_id': 'US-2017-102288', 'ship_mode': 'S...</td>\n",
       "      <td>{'product_id': 'OFF-AP-10002684', 'product_nam...</td>\n",
       "    </tr>\n",
       "    <tr>\n",
       "      <th>1</th>\n",
       "      <td>2698</td>\n",
       "      <td>261.9600</td>\n",
       "      <td>2</td>\n",
       "      <td>0.000</td>\n",
       "      <td>41.9136</td>\n",
       "      <td>{'order_id': 'CA-2014-145317', 'ship_mode': 'S...</td>\n",
       "      <td>{'product_id': 'FUR-BO-10001798', 'product_nam...</td>\n",
       "    </tr>\n",
       "    <tr>\n",
       "      <th>2</th>\n",
       "      <td>6827</td>\n",
       "      <td>731.9400</td>\n",
       "      <td>3</td>\n",
       "      <td>0.000</td>\n",
       "      <td>219.582</td>\n",
       "      <td>{'order_id': 'CA-2016-118689', 'ship_mode': 'S...</td>\n",
       "      <td>{'product_id': 'FUR-CH-10000454', 'product_nam...</td>\n",
       "    </tr>\n",
       "    <tr>\n",
       "      <th>3</th>\n",
       "      <td>8154</td>\n",
       "      <td>14.6200</td>\n",
       "      <td>2</td>\n",
       "      <td>0.000</td>\n",
       "      <td>6.8714</td>\n",
       "      <td>{'order_id': 'CA-2017-140151', 'ship_mode': 'F...</td>\n",
       "      <td>{'product_id': 'OFF-LA-10000240', 'product_nam...</td>\n",
       "    </tr>\n",
       "    <tr>\n",
       "      <th>4</th>\n",
       "      <td>2624</td>\n",
       "      <td>957.5775</td>\n",
       "      <td>5</td>\n",
       "      <td>0.450</td>\n",
       "      <td>-383.031</td>\n",
       "      <td>{'order_id': 'CA-2017-127180', 'ship_mode': 'F...</td>\n",
       "      <td>{'product_id': 'FUR-TA-10000577', 'product_nam...</td>\n",
       "    </tr>\n",
       "    <tr>\n",
       "      <th>...</th>\n",
       "      <td>...</td>\n",
       "      <td>...</td>\n",
       "      <td>...</td>\n",
       "      <td>...</td>\n",
       "      <td>...</td>\n",
       "      <td>...</td>\n",
       "      <td>...</td>\n",
       "    </tr>\n",
       "    <tr>\n",
       "      <th>495</th>\n",
       "      <td>289</td>\n",
       "      <td>189.8820</td>\n",
       "      <td>3</td>\n",
       "      <td>0.400</td>\n",
       "      <td>-94.941</td>\n",
       "      <td>{'order_id': 'CA-2016-112697', 'ship_mode': 'S...</td>\n",
       "      <td>{'product_id': 'FUR-TA-10001857', 'product_nam...</td>\n",
       "    </tr>\n",
       "    <tr>\n",
       "      <th>496</th>\n",
       "      <td>336</td>\n",
       "      <td>105.4200</td>\n",
       "      <td>2</td>\n",
       "      <td>0.000</td>\n",
       "      <td>51.6558</td>\n",
       "      <td>{'order_id': 'CA-2015-137946', 'ship_mode': 'S...</td>\n",
       "      <td>{'product_id': 'OFF-EN-10001434', 'product_nam...</td>\n",
       "    </tr>\n",
       "    <tr>\n",
       "      <th>497</th>\n",
       "      <td>5569</td>\n",
       "      <td>119.6160</td>\n",
       "      <td>8</td>\n",
       "      <td>0.200</td>\n",
       "      <td>40.3704</td>\n",
       "      <td>{'order_id': 'CA-2017-157966', 'ship_mode': 'S...</td>\n",
       "      <td>{'product_id': 'OFF-BI-10002498', 'product_nam...</td>\n",
       "    </tr>\n",
       "    <tr>\n",
       "      <th>498</th>\n",
       "      <td>8821</td>\n",
       "      <td>255.7600</td>\n",
       "      <td>4</td>\n",
       "      <td>0.000</td>\n",
       "      <td>81.8432</td>\n",
       "      <td>{'order_id': 'CA-2017-100622', 'ship_mode': 'S...</td>\n",
       "      <td>{'product_id': 'FUR-FU-10004864', 'product_nam...</td>\n",
       "    </tr>\n",
       "    <tr>\n",
       "      <th>499</th>\n",
       "      <td>2898</td>\n",
       "      <td>241.5680</td>\n",
       "      <td>2</td>\n",
       "      <td>0.200</td>\n",
       "      <td>18.1176</td>\n",
       "      <td>{'order_id': 'US-2016-164630', 'ship_mode': 'S...</td>\n",
       "      <td>{'product_id': 'FUR-CH-10002602', 'product_nam...</td>\n",
       "    </tr>\n",
       "  </tbody>\n",
       "</table>\n",
       "<p>500 rows × 7 columns</p>\n",
       "</div>"
      ],
      "text/plain": [
       "       id  sales_amt  qty  discount profit_amt  \\\n",
       "0    4102     2.0000    0    72.948       null   \n",
       "1    2698   261.9600    2     0.000    41.9136   \n",
       "2    6827   731.9400    3     0.000    219.582   \n",
       "3    8154    14.6200    2     0.000     6.8714   \n",
       "4    2624   957.5775    5     0.450   -383.031   \n",
       "..    ...        ...  ...       ...        ...   \n",
       "495   289   189.8820    3     0.400    -94.941   \n",
       "496   336   105.4200    2     0.000    51.6558   \n",
       "497  5569   119.6160    8     0.200    40.3704   \n",
       "498  8821   255.7600    4     0.000    81.8432   \n",
       "499  2898   241.5680    2     0.200    18.1176   \n",
       "\n",
       "                                                 order  \\\n",
       "0    {'order_id': 'US-2017-102288', 'ship_mode': 'S...   \n",
       "1    {'order_id': 'CA-2014-145317', 'ship_mode': 'S...   \n",
       "2    {'order_id': 'CA-2016-118689', 'ship_mode': 'S...   \n",
       "3    {'order_id': 'CA-2017-140151', 'ship_mode': 'F...   \n",
       "4    {'order_id': 'CA-2017-127180', 'ship_mode': 'F...   \n",
       "..                                                 ...   \n",
       "495  {'order_id': 'CA-2016-112697', 'ship_mode': 'S...   \n",
       "496  {'order_id': 'CA-2015-137946', 'ship_mode': 'S...   \n",
       "497  {'order_id': 'CA-2017-157966', 'ship_mode': 'S...   \n",
       "498  {'order_id': 'CA-2017-100622', 'ship_mode': 'S...   \n",
       "499  {'order_id': 'US-2016-164630', 'ship_mode': 'S...   \n",
       "\n",
       "                                               product  \n",
       "0    {'product_id': 'OFF-AP-10002684', 'product_nam...  \n",
       "1    {'product_id': 'FUR-BO-10001798', 'product_nam...  \n",
       "2    {'product_id': 'FUR-CH-10000454', 'product_nam...  \n",
       "3    {'product_id': 'OFF-LA-10000240', 'product_nam...  \n",
       "4    {'product_id': 'FUR-TA-10000577', 'product_nam...  \n",
       "..                                                 ...  \n",
       "495  {'product_id': 'FUR-TA-10001857', 'product_nam...  \n",
       "496  {'product_id': 'OFF-EN-10001434', 'product_nam...  \n",
       "497  {'product_id': 'OFF-BI-10002498', 'product_nam...  \n",
       "498  {'product_id': 'FUR-FU-10004864', 'product_nam...  \n",
       "499  {'product_id': 'FUR-CH-10002602', 'product_nam...  \n",
       "\n",
       "[500 rows x 7 columns]"
      ]
     },
     "execution_count": 5,
     "metadata": {},
     "output_type": "execute_result"
    }
   ],
   "source": [
    "df"
   ]
  },
  {
   "cell_type": "code",
   "execution_count": 17,
   "id": "bd5666a4",
   "metadata": {},
   "outputs": [],
   "source": [
    "data1=df['product']"
   ]
  },
  {
   "cell_type": "code",
   "execution_count": 33,
   "id": "6506cd35",
   "metadata": {},
   "outputs": [
    {
     "data": {
      "text/plain": [
       "7"
      ]
     },
     "execution_count": 33,
     "metadata": {},
     "output_type": "execute_result"
    }
   ],
   "source": [
    "len(data1[102]['sizes'].split(','))"
   ]
  },
  {
   "cell_type": "code",
   "execution_count": 34,
   "id": "33888cb2",
   "metadata": {},
   "outputs": [],
   "source": [
    "maxi=0\n",
    "name=''\n",
    "for i in range(len(data1)):\n",
    "    temp=len(data1[i]['sizes'].split(','))\n",
    "    if temp>maxi:\n",
    "        maxi=temp\n",
    "        name=data1[i]['product_name']"
   ]
  },
  {
   "cell_type": "code",
   "execution_count": 35,
   "id": "01167c50",
   "metadata": {},
   "outputs": [
    {
     "data": {
      "text/plain": [
       "'Redi-Strip #10 Envelopes, 4 1/8 x 9 1/2'"
      ]
     },
     "execution_count": 35,
     "metadata": {},
     "output_type": "execute_result"
    }
   ],
   "source": [
    "name\n"
   ]
  },
  {
   "cell_type": "code",
   "execution_count": 42,
   "id": "d162dd17",
   "metadata": {},
   "outputs": [
    {
     "data": {
      "text/plain": [
       "1"
      ]
     },
     "execution_count": 42,
     "metadata": {},
     "output_type": "execute_result"
    }
   ],
   "source": [
    "for i in range(len(data1)):\n",
    "    if data1[i]['product_name']=='Mitel 5320 IP Phone VoIP phone':\n",
    "        sizes_availiable=len(data1[i]['sizes'].split(','))\n",
    "        break\n",
    "sizes_availiable"
   ]
  },
  {
   "cell_type": "code",
   "execution_count": null,
   "id": "74cf8ebd",
   "metadata": {},
   "outputs": [],
   "source": []
  }
 ],
 "metadata": {
  "kernelspec": {
   "display_name": "Python 3 (ipykernel)",
   "language": "python",
   "name": "python3"
  },
  "language_info": {
   "codemirror_mode": {
    "name": "ipython",
    "version": 3
   },
   "file_extension": ".py",
   "mimetype": "text/x-python",
   "name": "python",
   "nbconvert_exporter": "python",
   "pygments_lexer": "ipython3",
   "version": "3.9.13"
  }
 },
 "nbformat": 4,
 "nbformat_minor": 5
}
